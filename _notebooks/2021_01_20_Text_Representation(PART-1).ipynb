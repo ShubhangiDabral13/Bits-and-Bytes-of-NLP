{
 "cells": [
  {
   "cell_type": "markdown",
   "metadata": {},
   "source": [
    "# \"Topic 03.1: Text Representation\"\n",
    "\n",
    "> \"Representing raw text to suitable numeric format\"\n",
    "\n",
    "- toc: true\n",
    "- branch: master\n",
    "- badges: true\n",
    "- comments: true\n",
    "- categories: [basic-nlp]\n",
    "- image: images/logo/logo.png\n",
    "- hide: False\n",
    "- sticky_rank: 5"
   ]
  },
  {
   "cell_type": "markdown",
   "metadata": {},
   "source": [
    "## What is Text Representation?\n",
    "\n",
    "In NLP the game is all about text. Text that we collect and provide to our computer. \n",
    "\n",
    "But what if the text we provide cannot be comprehend by our NLP or machine Learning algorithm?\n",
    "Well this nightmare is true because as we know our algorithm cannot handle the text. It might not get the simple English(or any other language text) which we easily grasp. \n",
    "\n",
    "Number is something that computer always love. So isn't it's better that we convert our text into suitable numeric format.\n",
    "\n",
    "*Conversion of raw text to a suitable numerical form is called text representation.*\n",
    "\n",
    "\n",
    "\n",
    "**With respect to the larger picture for any NLP problem, the scope of this chapter is\n",
    "depicted by the dotted box in the below figure.**\n",
    "\n",
    "\n",
    "\n",
    "\n",
    "<img src = \"my_icons/topic_03.1.a.png\">\n",
    "\n",
    "\n",
    "We will start with simple approaches and go all the way to state-of-the-art techniques for representing text. These approaches are classified into four categories:\n",
    "* Basic vectorization approaches\n",
    "* Distributed representations\n",
    "* Universal language representation\n",
    "* Handcrafted features\n",
    "\n",
    "\n",
    "\n",
    "Before starting with Basic Vectorization approaches let me give you a clear picture about **Vector space models.**\n",
    "\n",
    "\n",
    "## Vector Space Model\n",
    "\n",
    "* Text are represented with a vectors of numbers that are called Vector Space Model(VSM).\n",
    "* VSM is fundamental to many information-retrieval operations, from scoring documents on a query to document classification and document clustering. \n",
    "* It’s a mathematical model that represents text units as vectors.\n",
    "* In the simplest form, these are vectors of identifiers, such as index numbers in a corpus vocabulary. \n",
    "* In this setting, the most common way to calculate similarity between two text blobs is using cosine similarity.\n",
    ">Note:The cosine of the angle between their corresponding vectors. The cosine of 0° is 1 and the cosine of 180° is –1, with the cosine monotonically decreasing from 0° to 180°. \n",
    "\n",
    "Given two vectors, A and B, each with n components, the similarity between them is computed as follows:\n",
    "\n",
    "<img src = \"my_icons/topic_03.1.b.png\">\n",
    "\n",
    "\n",
    "\n",
    "## Basic Vectorization Approaches\n",
    "\n",
    "To understand different Basic vectorization approaches let’s take a toy corpus with only four documents—D 1 , D 2 , D 3 , D 4 —as an example.\n",
    "\n",
    "<img src = \"my_icons/topic_03.1.c.png\">\n",
    "\n",
    "\n",
    "The vocabulary of this corpus is comprised of six words: **[dog, bites, man, eats, meat, food]**. We can organize the vocabulary in any order. In this example, we simply take the order in which the words appear in the corpus.\n",
    "\n",
    "\n",
    "### 1.One-Hot Encoding\n",
    "* In one-hot encoding, each word w in the corpus vocabulary is given aunique integer ID w id that is between 1 and |V|, where V is the set of the corpus vocabulary. \n",
    "* Each word is then represented by a V-dimensional binary vector of 0s and 1s. This is done via a |V| dimension vector filled with all 0s except the index, where index = w id . \n",
    "* At this index, we simply put a 1. The representation for individual words is then combined to form a sentence representation.\n",
    "\n",
    "\n",
    "**Example of toy dataset:** \n",
    "* We first map each of the six words to unique IDs: dog = 1, bites = 2, man = 3, meat = 4 , food = 5, eats = 6.\n",
    "* Now for D1 “dog bites man” each word is a six-dimensional vector. \n",
    "* Dog is represented as [1 0 0 0 0 0], as the word “dog” is mapped to ID 1. Bites is represented as [0 1 0 0 0 0], and so on and so forth. Thus, D1 is represented as [ [1 0 0 0 0 0] [0 1 0 0 0 0] [0 0 1 0 0 0]]. \n",
    "* Other documents in the corpus can be represented similarly.\n",
    "\n"
   ]
  },
  {
   "cell_type": "code",
   "execution_count": 1,
   "metadata": {},
   "outputs": [],
   "source": [
    "S1 = 'dog bites man'\n",
    "S2 = 'man bites dog'\n",
    "S3 = 'dog eats meat'\n",
    "S4 = 'man eats food'"
   ]
  },
  {
   "cell_type": "code",
   "execution_count": 2,
   "metadata": {},
   "outputs": [],
   "source": [
    "data = [S1.split(),S2.split(),S3.split(),S4.split()]"
   ]
  },
  {
   "cell_type": "code",
   "execution_count": 3,
   "metadata": {},
   "outputs": [
    {
     "name": "stdout",
     "output_type": "stream",
     "text": [
      "Onehot Encoded Matrix:\n",
      " [[1. 0. 1. 0. 0. 0. 1. 0.]\n",
      " [0. 1. 1. 0. 1. 0. 0. 0.]\n",
      " [1. 0. 0. 1. 0. 0. 0. 1.]\n",
      " [0. 1. 0. 1. 0. 1. 0. 0.]]\n"
     ]
    }
   ],
   "source": [
    "from sklearn.preprocessing import OneHotEncoder\n",
    "\n",
    "#One-Hot Encoding\n",
    "onehot_encoder = OneHotEncoder()\n",
    "onehot_encoded = onehot_encoder.fit_transform(data).toarray()\n",
    "print(\"Onehot Encoded Matrix:\\n\",onehot_encoded)"
   ]
  },
  {
   "cell_type": "markdown",
   "metadata": {},
   "source": [
    "#### Pros of One-Hot Encoding\n",
    "* one-hot encoding is intuitive to understand and straightforward to implement.\n",
    "\n",
    "#### Cons of One-Hot Encoding\n",
    "* The size of the vectors is directly proportional to the size of the vocabulary and also the vectors is sparse.\n",
    "* There is no fixed length representation of text. Text with 10 words is much larger than text with 4 words.\n",
    "* Semantic meaniing is poorly captured by One-Hot Ecnoding.\n",
    "* Cannot handle out of vocabulary(OOV) problem.\n",
    ">Note: OOV is cause when we ecounter the words that are not present in the vocabulary.\n",
    "\n",
    "\n",
    "\n",
    "### 2.Bag of Words\n",
    "The key idea behind it is as follows:\n",
    "* represent the text under consideration as a bag (collection) of words while ignoring the order and context. \n",
    "* The basic intuition behind it is that it assumes that the text belonging to a given class in the dataset is characterized by a unique set of words. \n",
    "* If two text pieces have nearly the same words, then they belong to the same bag (class). Thus, by analyzing the words present in a piece of text, one can identify the class (bag) it belongs to.\n",
    "* BoW maps words to unique integer IDs between 1 and |V|. \n",
    "* Each document in the corpus is then converted into a vector of |V| dimensions where in the i th component of the vector, i = w id , is simply the number of times the word w occurs in the document, i.e., we simply score each word in V by their occurrence count in the document.\n",
    "\n",
    "\n",
    "**Example of toy dataset:**\n",
    "* The word IDs are dog = 1, bites = 2, man = 3, meat = 4 , food = 5, eats = 6.\n",
    "* So D1 becomes [1 1 1 0 0 0].  This is because the first three words in the vocabulary appeared exactly once in D1, and the last three did not appear at all.\n",
    "* D4 becomes [0 0 1 0 1 1].\n"
   ]
  },
  {
   "cell_type": "code",
   "execution_count": 4,
   "metadata": {},
   "outputs": [
    {
     "data": {
      "text/plain": [
       "['dog bites man', 'man bites dog', 'dog eats meat', 'man eats food']"
      ]
     },
     "execution_count": 4,
     "metadata": {},
     "output_type": "execute_result"
    }
   ],
   "source": [
    "documents = [\"Dog bites man.\", \"Man bites dog.\", \"Dog eats meat.\", \"Man eats food.\"] #Same as the earlier notebook\n",
    "processed_docs = [doc.lower().replace(\".\",\"\") for doc in documents]\n",
    "processed_docs"
   ]
  },
  {
   "cell_type": "code",
   "execution_count": 5,
   "metadata": {},
   "outputs": [
    {
     "name": "stdout",
     "output_type": "stream",
     "text": [
      "Our corpus:  ['dog bites man', 'man bites dog', 'dog eats meat', 'man eats food']\n",
      "Our vocabulary:  {'dog': 1, 'bites': 0, 'man': 4, 'eats': 2, 'meat': 5, 'food': 3}\n",
      "BoW representation for 'dog bites man':  [[1 1 0 0 1 0]]\n",
      "BoW representation for 'man bites dog:  [[1 1 0 0 1 0]]\n",
      "Bow representation for 'dog and dog are friends': [[0 2 0 0 0 0]]\n"
     ]
    }
   ],
   "source": [
    "from sklearn.feature_extraction.text import CountVectorizer\n",
    "\n",
    "#look at the documents list\n",
    "print(\"Our corpus: \", processed_docs)\n",
    "\n",
    "count_vect = CountVectorizer()\n",
    "#Build a BOW representation for the corpus\n",
    "bow_rep = count_vect.fit_transform(processed_docs)\n",
    "\n",
    "#Look at the vocabulary mapping\n",
    "print(\"Our vocabulary: \", count_vect.vocabulary_)\n",
    "\n",
    "#see the BOW rep for first 2 documents\n",
    "print(\"BoW representation for 'dog bites man': \", bow_rep[0].toarray())\n",
    "print(\"BoW representation for 'man bites dog: \",bow_rep[1].toarray())\n",
    "\n",
    "#Get the representation using this vocabulary, for a new text\n",
    "temp = count_vect.transform([\"dog and dog are friends\"])\n",
    "print(\"Bow representation for 'dog and dog are friends':\", temp.toarray())\n"
   ]
  },
  {
   "cell_type": "markdown",
   "metadata": {},
   "source": [
    "~In the above code, we represented the text considering the frequency of words into account. However, sometimes, we don't care about frequency much, but only want to know whether a word appeared in a text or not. That is, each document is represented as a vector of 0s and 1s. We will use the option binary=True in CountVectorizer for this purpose."
   ]
  },
  {
   "cell_type": "code",
   "execution_count": 6,
   "metadata": {},
   "outputs": [
    {
     "name": "stdout",
     "output_type": "stream",
     "text": [
      "Bow representation for 'dog and dog are friends': [[0 1 0 0 0 0]]\n"
     ]
    }
   ],
   "source": [
    "#BoW with binary vectors\n",
    "count_vect = CountVectorizer(binary=True)\n",
    "bow_rep_bin = count_vect.fit_transform(processed_docs)\n",
    "temp = count_vect.transform([\"dog and dog are friends\"])\n",
    "print(\"Bow representation for 'dog and dog are friends':\", temp.toarray())"
   ]
  },
  {
   "cell_type": "markdown",
   "metadata": {},
   "source": [
    "#### Pros of Bag of Words\n",
    "* BoW is fairly simple to understand and implement.\n",
    "* The text have similar length.\n",
    "* documents having the same words will have their vector representations closer to each other as compared to documents with completely different words.BoW scheme captures the semantic similarity of documents. So if two documents have similar vocabulary, they’ll be closer to each other in the vector space and vice versa.\n",
    "\n",
    "#### Cons of Bag of Words\n",
    "* The size of the vectors is directly proportional to the size of the vocabulary and also the vectors is sparse.\n",
    "* It does not capture the similarity between different words that mean the same thing. Say we have three documents: “I run”, “I ran”, and “I ate”. BoW vectors of all three documents will be equally apart.\n",
    "* Cannot handle out of vocabulary(OOV) problem.\n",
    "* In Bag of Words, words order are lost.\n",
    "\n",
    "\n",
    "\n",
    "### 3.Bag of N-Grams\n",
    "* The bag-of-n-grams (BoN) approach tries to remedy the notion of phrases or word ordering.\n",
    "* This can help us capture some context, which earlier approaches could not do. Each chunk is called an n-gram. \n",
    "* The corpus vocabulary, V, is then nothing but a collection of all unique n-grams across the text corpus.\n",
    "* Then, each document in the corpus is represented by a vector of length |V|. \n",
    "* This vector simply contains the frequency counts of n-grams present in the document and zero for the n-grams that are not present.\n",
    "\n",
    "\n",
    "**Example of toy dataset:** \n",
    "* Let’s construct a 2- gram (a.k.a. bigram) model for it. \n",
    "* The set of all bigrams in the corpus is as follows: **{dog bites, bites man, man bites, bites dog, dog eats, eats meat, man eats, eats food}.** \n",
    "* Then, BoN representation consists of an eight-dimensional vector for each document. \n",
    "* The bigram representation for the first two documents is as follows: \n",
    "    D 1 : [1,1,0,0,0,0,0,0], \n",
    "    D 2 : [0,0,1,1,0,0,0,0]. \n",
    "* The other two documents follow similarly.\n",
    "\n",
    "\n",
    "\n",
    "~CountVectorizer, which we used for BoW, can be used for getting a Bag of N-grams representation as well, using its ngram_range argument."
   ]
  },
  {
   "cell_type": "code",
   "execution_count": 7,
   "metadata": {},
   "outputs": [
    {
     "name": "stdout",
     "output_type": "stream",
     "text": [
      "Our vocabulary:  {'dog': 3, 'bites': 0, 'man': 12, 'dog bites': 4, 'bites man': 2, 'dog bites man': 5, 'man bites': 13, 'bites dog': 1, 'man bites dog': 14, 'eats': 8, 'meat': 17, 'dog eats': 6, 'eats meat': 10, 'dog eats meat': 7, 'food': 11, 'man eats': 15, 'eats food': 9, 'man eats food': 16}\n",
      "BoW representation for 'dog bites man':  [[1 0 1 1 1 1 0 0 0 0 0 0 1 0 0 0 0 0]]\n",
      "BoW representation for 'man bites dog:  [[1 1 0 1 0 0 0 0 0 0 0 0 1 1 1 0 0 0]]\n",
      "Bow representation for 'dog and dog are friends': [[0 0 0 2 0 0 0 0 0 0 0 0 0 0 0 0 0 0]]\n"
     ]
    }
   ],
   "source": [
    "from sklearn.feature_extraction.text import CountVectorizer\n",
    "\n",
    "#Ngram vectorization example with count vectorizer and uni, bi, trigrams\n",
    "count_vect = CountVectorizer(ngram_range=(1,3))\n",
    "\n",
    "#Build a BOW representation for the corpus\n",
    "bow_rep = count_vect.fit_transform(processed_docs)\n",
    "\n",
    "#Look at the vocabulary mapping\n",
    "print(\"Our vocabulary: \", count_vect.vocabulary_)\n",
    "\n",
    "#see the BOW rep for first 2 documents\n",
    "print(\"BoW representation for 'dog bites man': \", bow_rep[0].toarray())\n",
    "print(\"BoW representation for 'man bites dog: \",bow_rep[1].toarray())\n",
    "\n",
    "#Get the representation using this vocabulary, for a new text\n",
    "temp = count_vect.transform([\"dog and dog are friends\"])\n",
    "\n",
    "print(\"Bow representation for 'dog and dog are friends':\", temp.toarray())"
   ]
  },
  {
   "cell_type": "markdown",
   "metadata": {},
   "source": [
    "#### Pros of Bag of N-Gram\n",
    "* It captures some context and word-order information in the form of n-grams.\n",
    "* Thus, resulting vector space is able to capture some semantic similarity.\n",
    "\n",
    "#### Cons of Bag of N-Gram\n",
    "* As n increases, dimensionality (and therefore sparsity) only increases rapidly.\n",
    "* It still provides no way to address the OOV problem.\n",
    "\n",
    "\n",
    "### 4.TF-IDF\n",
    "TF-IDF, or term frequency–inverse document frequency assign importance to the word in the documents.\n",
    "\n",
    "The intuition behind TF-IDF is as follows: \n",
    "* if a word w appears many times in a document d i but does not occur much in the rest of the documents dj in the corpus, then the word w must be of great importance to the document di.\n",
    "* The importance of w should increase in proportion to its frequency in di , but at the same time, its importance should decrease in proportion to the word’s frequency in other documents dj in the corpus. \n",
    "* Mathematically, this is captured using two quantities: **TF and IDF**. The two are then combined to arrive at the TF-IDF score.\n",
    "\n",
    "#### TF (term frequency) \n",
    "* measures how often a term or word occurs in a given document.\n",
    "* Since different documents in the corpus may be ofdifferent lengths, a term may occur more often in a longer document as compared to a shorter document.\n",
    "* To normalize these counts, we divide the number of occurrences by the length of the document. \n",
    "\n",
    "TF of a term t in a document d is defined as:\n",
    "\n",
    "<img src = \"my_icons/topic_03.1.d.png\">\n",
    "\n",
    "#### DF (inverse document frequency) \n",
    "* measures the importance of the term across a corpus. \n",
    "* In computing TF, all terms are given equal importance (weightage).\n",
    "* However, it’s a well-known fact that stop words like is, are, am, etc., are not important, even though they occur frequently. \n",
    "* To account for such cases, IDF weighs down the terms that are very common across a corpus and weighs up the rare terms.\n",
    "\n",
    "IDF of a term t is calculated as follows:\n",
    "\n",
    "<img src = \"my_icons/topic_03.1.e.png\">\n",
    " \n",
    "Thus, **TF-IDF score = TF * IDF.**\n",
    "\n",
    "\n"
   ]
  },
  {
   "cell_type": "code",
   "execution_count": 8,
   "metadata": {},
   "outputs": [
    {
     "name": "stdout",
     "output_type": "stream",
     "text": [
      "IDF for all words in the vocabulary [1.51082562 1.22314355 1.51082562 1.91629073 1.22314355 1.91629073]\n",
      "----------\n",
      "All words in the vocabulary ['bites', 'dog', 'eats', 'food', 'man', 'meat']\n",
      "----------\n",
      "TFIDF representation for all documents in our corpus\n",
      " [[0.65782931 0.53256952 0.         0.         0.53256952 0.        ]\n",
      " [0.65782931 0.53256952 0.         0.         0.53256952 0.        ]\n",
      " [0.         0.44809973 0.55349232 0.         0.         0.70203482]\n",
      " [0.         0.         0.55349232 0.70203482 0.44809973 0.        ]]\n",
      "----------\n",
      "Tfidf representation for 'dog and man are friends':\n",
      " [[0.         0.70710678 0.         0.         0.70710678 0.        ]]\n"
     ]
    }
   ],
   "source": [
    "from sklearn.feature_extraction.text import TfidfVectorizer\n",
    "\n",
    "tfidf = TfidfVectorizer()\n",
    "bow_rep_tfidf = tfidf.fit_transform(processed_docs)\n",
    "\n",
    "#IDF for all words in the vocabulary\n",
    "print(\"IDF for all words in the vocabulary\",tfidf.idf_)\n",
    "print(\"-\"*10)\n",
    "#All words in the vocabulary.\n",
    "print(\"All words in the vocabulary\",tfidf.get_feature_names())\n",
    "print(\"-\"*10)\n",
    "\n",
    "#TFIDF representation for all documents in our corpus \n",
    "print(\"TFIDF representation for all documents in our corpus\\n\",bow_rep_tfidf.toarray()) \n",
    "print(\"-\"*10)\n",
    "\n",
    "temp = tfidf.transform([\"dog and man are friends\"])\n",
    "print(\"Tfidf representation for 'dog and man are friends':\\n\", temp.toarray())"
   ]
  },
  {
   "cell_type": "markdown",
   "metadata": {},
   "source": [
    "#### Pros of TF-IDF\n",
    "* Assign importance to the words in a particular documents.\n",
    "\n",
    "\n",
    "#### Cons of TF-IDF\n",
    "* The feature vectors are sparse and high-dimensional representations.\n",
    "* They cannot handle OOV problem.\n",
    "\n",
    "\n",
    "Well that now we have completed all the basic vectorization approach. In the next topic we will cover other approaches for text representation followed by state-of-art-approach."
   ]
  }
 ],
 "metadata": {
  "kernelspec": {
   "display_name": "Python 3",
   "language": "python",
   "name": "python3"
  },
  "language_info": {
   "codemirror_mode": {
    "name": "ipython",
    "version": 3
   },
   "file_extension": ".py",
   "mimetype": "text/x-python",
   "name": "python",
   "nbconvert_exporter": "python",
   "pygments_lexer": "ipython3",
   "version": "3.7.6"
  }
 },
 "nbformat": 4,
 "nbformat_minor": 4
}
