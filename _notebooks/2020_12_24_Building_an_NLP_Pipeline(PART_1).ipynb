{
 "cells": [
  {
   "cell_type": "markdown",
   "metadata": {
    "id": "UZ-5UTVSPcCG"
   },
   "source": [
    "# \"Topic 02.1: Building an NLP Pipeline(PART-1)\"\n",
    "\"Introduction to NLP pipeline\"\n",
    "\n",
    "\n",
    "- toc: true\n",
    "- branch: master\n",
    "- badges: true\n",
    "- comments: true\n",
    "- categories: [nlp-pipeline]\n",
    "- image: images/logo/logo.png\n",
    "- hide: False\n",
    "- sticky_rank: 2"
   ]
  },
  {
   "cell_type": "markdown",
   "metadata": {
    "id": "oFDCDTv7QTOg"
   },
   "source": [
    "If we were asked to build an NLP application, think about how we would approach doing so at an organization. We would normally walk through the requirements and break the problem down into several sub-problems, then try to develop a step-by-step procedure to solve them. Since language processing is involved, we would also list all the forms of text processing needed at each step. \n",
    "\n",
    " \n",
    "\n",
    "*This step-by-step processing of text is known as a NLP pipeline. It is the series of steps involved in building any NLP model.*\n",
    "\n",
    "<img src=\"my_icons/topic_02.a.1.png\">"
   ]
  },
  {
   "cell_type": "markdown",
   "metadata": {
    "id": "c06uVp3rS3wh"
   },
   "source": [
    "The key stages in the pipeline are as follows: \n",
    "\n",
    "1. Data acquisition \n",
    "\n",
    "2. Text cleaning \n",
    "\n",
    "3. Pre-processing \n",
    "\n",
    "4. Feature engineering \n",
    "\n",
    "5. Modeling \n",
    "\n",
    "6. Evaluation \n",
    "\n",
    "7. Deployment \n",
    "\n",
    "8. Monitoring and model updating \n",
    "\n",
    "\n",
    "\n",
    "Before we dive into NLP applications implementation the first and foremost thing is to get a clear picture about it’s pipeline. Hence, below are a detail overview about each component in it's pipeline. \n",
    "\n",
    "\n",
    "\n",
    ">NOTE: The blog post on NLP pipeline is divided into 3 blog post. The first blog post covers the Data acquisition and Text Cleaning. Second blog post covers Pre-processing and Feature engineering and the 3rd blog post covers modeling, Evaluation, Deployment and Moniotring and model updating. \n",
    "\n",
    " \n",
    "\n",
    "# DATA ACQUISITION \n",
    "\n",
    "Data plays a major role in the NLP pipeline. Hence it's quite important that how we collect the relevant data for our NLP project.  \n",
    "\n",
    "Sometime it's easily available to us. But sometime extra effort need to be done to collect  these precious data. \n",
    "\n",
    "## 1).Scrape web pages \n",
    "To create an application that can summarizes the top news into just 100 words .For that you need to scrape the data from the current affairs websites and webpages. \n",
    "\n",
    " \n",
    "\n",
    "## 2).Data Augmentation\n",
    "NLP has a bunch of techniques through which we can take a small dataset and use some tricks to create more data. These tricks are also called data augmentation, and they try to exploit language properties to create text that is syntactically similar to source text data. They may appear as hacks, but they work very well in practice. Let’s look at some of them: \n",
    "\n",
    "\n",
    "### a).Back translation  \n",
    "Let say we have sentence s1 which is in French. We will translate it to other language (in this case English) and after translation it become sentence s2. Now we will translate this sentence s2 again to French and now it become s3. We’ll find that S1 and S3 are very similar in meaning but there is  slight variations. Now we can add S3 to our dataset. \n",
    "\n",
    " \n",
    "\n",
    "### b).Replacing Entities \n",
    "To create more dataset we will replace the entities name with other entities. Let say s1 is \"I want to go to New York\", here we will replace New York with other entity name for e.g. New Jersey. \n",
    "\n",
    " \n",
    "### c).Synonym Replacement\n",
    "Randomly choose “k” words in a sentence that are not stop words. Replace these words with their synonyms. \n",
    "\n",
    " \n",
    "### d).Bigram flipping \n",
    "Divide the sentence into bigrams. Take one bigram at random and flip it. For example: “I am going to the supermarket.” Here, we take the bigram “going to” and replace it with the flipped one: “to Going.” \n",
    "\n",
    "\n",
    "\n",
    "# TEXT CLEANING \n",
    "\n",
    "\n",
    "After  collecting data it is also important that data need to be in the form that is understood by computer. Consider the text contains different symbols and words which doesn't convey meaning to the model while training. So we will remove them before feeding to the model in an efficient way. This method is called Data Cleaning. Different Text Cleaning process are as follows:  \n",
    "\n",
    "## HTML tag cleaning  \n",
    "\n",
    "Well when collecting the data we scrap through various web pages. Beautiful Soup and Scrapy, which provide a range of utilities to parse web pages.Hence the text we collect does not have any HTML tag in it."
   ]
  },
  {
   "cell_type": "code",
   "execution_count": 1,
   "metadata": {
    "colab": {
     "base_uri": "https://localhost:8080/"
    },
    "id": "9sO3nXhyUb1z",
    "outputId": "04ea88e6-84e8-459c-af00-fd9026780ff5"
   },
   "outputs": [
    {
     "name": "stdout",
     "output_type": "stream",
     "text": [
      "['1 History', '2 Basics', '3 Challenges', '3.1 Reasoning, problem solving', '3.2 Knowledge representation', '3.3 Planning', '3.4 Learning', '3.5 Natural language processing', '3.6 Perception', '3.7 Motion and manipulation', '3.8 Social intelligence', '3.9 General intelligence', '4 Approaches', '4.1 Cybernetics and brain simulation', '4.2 Symbolic', '4.2.1 Cognitive simulation', '4.2.2 Logic-based', '4.2.3 Anti-logic or scruffy', '4.2.4 Knowledge-based', '4.3 Sub-symbolic', '4.3.1 Embodied intelligence', '4.3.2 Computational intelligence and soft computing', '4.4 Statistical', '4.5 Integrating the approaches', '5 Tools', '6 Applications', '7 Philosophy and ethics', '7.1 The limits of artificial general intelligence', '7.2 Ethical machines', '7.2.1 Artificial moral agents', '7.2.2 Machine ethics', '7.2.3 Malevolent and friendly AI', '7.3 Machine consciousness, sentience and mind', '7.3.1 Consciousness', '7.3.2 Computationalism and functionalism', '7.3.3 Strong AI hypothesis', '7.3.4 Robot rights', '7.4 Superintelligence', '7.4.1 Technological singularity', '7.4.2 Transhumanism', '8 Impact', '8.1 Risks of narrow AI', '8.2 Risks of general AI', '9 Regulation', '10 In fiction', '11 See also', '12 Explanatory notes', '13 References', '13.1 AI textbooks', '13.2 History of AI', '13.3 Other sources', '14 Further reading', '15 External links']\n"
     ]
    }
   ],
   "source": [
    "from bs4 import BeautifulSoup\n",
    "import urllib.request\n",
    "import re\n",
    "url = \"https://en.wikipedia.org/wiki/Artificial_intelligence\"\n",
    "page = urllib.request.urlopen(url) # connect to website\n",
    "try:\n",
    "    page = urllib.request.urlopen(url)\n",
    "except:\n",
    "    print(\"An error occured.\")\n",
    "soup = BeautifulSoup(page, 'html.parser')\n",
    "regex = re.compile('^tocsection-')\n",
    "content_lis = soup.find_all('li', attrs={'class': regex})\n",
    "content = []\n",
    "for li in content_lis:\n",
    "    content.append(li.getText().split('\\n')[0])\n",
    "print(content)"
   ]
  },
  {
   "cell_type": "markdown",
   "metadata": {
    "id": "tI8Y5V6ZTz6J"
   },
   "source": [
    "## Unicode Normalization:  \n",
    "\n",
    "While cleaning the data we may also encounter various Unicode characters, including symbols, emojis, and other graphic characters. To parse such non-textual symbols and special characters, we use Unicode normalization. This means that the text we see should be converted into some form of binary representation to store in a computer. This process is known as text encoding. \n",
    "\n",
    " \n",
    "\n",
    "\n"
   ]
  },
  {
   "cell_type": "code",
   "execution_count": 2,
   "metadata": {
    "colab": {
     "base_uri": "https://localhost:8080/"
    },
    "id": "5X_K6NngXmXB",
    "outputId": "b5a67306-40ec-49c3-de20-3c22710ec4e6"
   },
   "outputs": [
    {
     "name": "stdout",
     "output_type": "stream",
     "text": [
      "Collecting emoji\n",
      "\u001b[?25l  Downloading https://files.pythonhosted.org/packages/ff/1c/1f1457fe52d0b30cbeebfd578483cedb3e3619108d2d5a21380dfecf8ffd/emoji-0.6.0.tar.gz (51kB)\n",
      "\r",
      "\u001b[K     |██████▍                         | 10kB 14.7MB/s eta 0:00:01\r",
      "\u001b[K     |████████████▉                   | 20kB 9.3MB/s eta 0:00:01\r",
      "\u001b[K     |███████████████████▎            | 30kB 7.8MB/s eta 0:00:01\r",
      "\u001b[K     |█████████████████████████▊      | 40kB 7.4MB/s eta 0:00:01\r",
      "\u001b[K     |████████████████████████████████| 51kB 2.7MB/s \n",
      "\u001b[?25hBuilding wheels for collected packages: emoji\n",
      "  Building wheel for emoji (setup.py) ... \u001b[?25l\u001b[?25hdone\n",
      "  Created wheel for emoji: filename=emoji-0.6.0-cp36-none-any.whl size=49717 sha256=a6365101db710e8ae5f3986d405494a39b45d5a929650cdea2bcaa2b6868515d\n",
      "  Stored in directory: /root/.cache/pip/wheels/46/2c/8b/9dcf5216ca68e14e0320e283692dce8ae321cdc01e73e17796\n",
      "Successfully built emoji\n",
      "Installing collected packages: emoji\n",
      "Successfully installed emoji-0.6.0\n"
     ]
    }
   ],
   "source": [
    "#hide\n",
    "!pip install emoji"
   ]
  },
  {
   "cell_type": "code",
   "execution_count": 3,
   "metadata": {
    "colab": {
     "base_uri": "https://localhost:8080/"
    },
    "id": "lhIqtGsCYkNO",
    "outputId": "7339e355-be96-4765-fa4a-47585812676f"
   },
   "outputs": [
    {
     "name": "stdout",
     "output_type": "stream",
     "text": [
      "Python is fun ❤\n"
     ]
    }
   ],
   "source": [
    "import emoji\n",
    "text = emoji.emojize(\"Python is fun :red_heart:\")\n",
    "print(text)"
   ]
  },
  {
   "cell_type": "code",
   "execution_count": 4,
   "metadata": {
    "colab": {
     "base_uri": "https://localhost:8080/"
    },
    "id": "i4Hp9eIxY3aX",
    "outputId": "5ce12c97-b812-4521-cd38-37989c486c50"
   },
   "outputs": [
    {
     "name": "stdout",
     "output_type": "stream",
     "text": [
      "b'Python is fun \\xe2\\x9d\\xa4'\n"
     ]
    }
   ],
   "source": [
    "Text = text.encode(\"utf-8\")\n",
    "print(Text)"
   ]
  },
  {
   "cell_type": "markdown",
   "metadata": {
    "id": "bDQbvDahUA1M"
   },
   "source": [
    "## Spelling Correction  \n",
    "\n",
    "The data that we have might have some spelling mistake because of fast typing the text or using short hand or slang that are used on social media like twitter. Using these data may not result in better prediction by our model therefore it is quite important to handle these data before feeding it to the model. we don’t have a robust method to fix this, but we still can make good attempts to mitigate the issue. Microsoft released a REST API that can be used in Python for potential spell checking. \n",
    "\n",
    " \n"
   ]
  },
  {
   "cell_type": "markdown",
   "metadata": {
    "id": "MyTMJyUFUGqB"
   },
   "source": [
    "## System-Specific Error Correction\n",
    "\n",
    "* What if we need to extract the data from the PDF. Different PDF documents are encoded differently, and sometimes, we may not be able to extract the full text, or the structure of the text may get messed up. There are several libraries, such as PyPDF, PDFMiner, etc., to extract text from PDF documents but they are far from perfect. \n",
    "\n",
    "* Another common source of textual data is scanned documents. Text extraction from scanned documents is typically done through optical character recognition (OCR), using libraries such as Tesseract. \n",
    "\n",
    "\n",
    "# Recap\n",
    "\n",
    "The first step in the process of developing any NLP system is to collect data relevant to the given task. Even if we’re building a rule-based system, we still need some data to design and test our rules. The data we get is seldom(rarely) clean, and this is where text cleaning comes into play.\n",
    " "
   ]
  },
  {
   "cell_type": "markdown",
   "metadata": {},
   "source": [
    "{{ 'Notes are compiled from [ Practical Natural Language Processing: A Comprehensive Guide to Building Real-World NLP Systems](https://www.oreilly.com/library/view/practical-natural-language/9781492054047/) and  [morioh](https://morioh.com/p/a7b8982e5a5a)' | fndetail: 1 }}\n",
    "{{ 'If you face any problem or have any feedback/suggestions feel free to comment.' | fndetail: 2 }}"
   ]
  }
 ],
 "metadata": {
  "colab": {
   "collapsed_sections": [
    "c06uVp3rS3wh"
   ],
   "name": "2020-12-24-Building-An-NLP-Pipeline-(PART-1).ipynb",
   "provenance": [],
   "toc_visible": true
  },
  "kernelspec": {
   "display_name": "Python 3",
   "language": "python",
   "name": "python3"
  },
  "language_info": {
   "codemirror_mode": {
    "name": "ipython",
    "version": 3
   },
   "file_extension": ".py",
   "mimetype": "text/x-python",
   "name": "python",
   "nbconvert_exporter": "python",
   "pygments_lexer": "ipython3",
   "version": "3.7.6"
  }
 },
 "nbformat": 4,
 "nbformat_minor": 1
}
