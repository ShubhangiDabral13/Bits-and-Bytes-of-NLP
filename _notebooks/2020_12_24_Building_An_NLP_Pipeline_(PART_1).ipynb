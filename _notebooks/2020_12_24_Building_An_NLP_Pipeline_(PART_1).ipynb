{
 "cells": [
  {
   "cell_type": "markdown",
   "metadata": {
    "id": "UZ-5UTVSPcCG"
   },
   "source": [
    "# \"Topic 02: Building an NLP Pipeline(PART-1)\"\n",
    "\"Introduction to NLP pipeline\"\n",
    "\n",
    "*   toc: true\n",
    "*   badges: true \n",
    "*  comments: true\n",
    "*  categories: [nlp-pipeline]\n",
    "*  hide: true\n",
    "*  sticky_rank: 2"
   ]
  },
  {
   "cell_type": "markdown",
   "metadata": {
    "id": "oFDCDTv7QTOg"
   },
   "source": [
    "If we were asked to build an NLP application, think about how we would approach doing so at an organization. We would normally walk through the requirements and break the problem down into several sub-problems, then try to develop a step-by-step procedure to solve them. Since language processing is involved, we would also list all the forms of text processing needed at each step. \n",
    "\n",
    " \n",
    "\n",
    "*This step-by-step processing of text is known as a NLP pipeline. It is the series of steps involved in building any NLP model.*\n",
    "\n",
    "<img src=\"my_icons/topic_02.a.1.png\">"
   ]
  },
  {
   "cell_type": "markdown",
   "metadata": {
    "id": "c06uVp3rS3wh"
   },
   "source": [
    "The key stages in the pipeline are as follows: \n",
    "\n",
    "1. Data acquisition \n",
    "\n",
    "2. Text cleaning \n",
    "\n",
    "3. Pre-processing \n",
    "\n",
    "4. Feature engineering \n",
    "\n",
    "5. Modeling \n",
    "\n",
    "6. Evaluation \n",
    "\n",
    "7. Deployment \n",
    "\n",
    "8. Monitoring and model updating \n",
    "\n",
    "\n",
    "\n",
    "Before we dive into NLP applications implementation the first and foremost thing is to get a clear picture about it’s pipeline. Hence, below are a detail overview about each component in it's pipeline. \n",
    "\n",
    "\n",
    "\n",
    "NOTE: This blog post is divided into 2 parts. First part will deal with data with data collection, cleaning,  pre-processing and feature engineering and the second part deal with model building , evaluation , deployment and monitoring and updating the model. \n",
    "\n",
    " \n",
    "\n",
    "# DATA ACUQISTION \n",
    "\n",
    "Data plays a major role in the NLP pipeline. Hence it's quite important that how we collect the relevant data for our NLP project.  \n",
    "\n",
    "Sometime it's easily available to us. But sometime extra effort need to be done to collect  these precious data. \n",
    "\n",
    "## 1).Scrape web pages:  \n",
    "To create an application that can summarizes the top news into just 100 words . So for that you need to scrape the data from the current affairs websites and webpages. \n",
    "\n",
    " \n",
    "\n",
    "## 2).Data Augmentation:\n",
    "NLP has a bunch of techniques through which we can take a small dataset and use some tricks to create more data. These tricks are also called data augmentation, and they try to exploit language properties to create text that is syntactically similar to source text data. They may appear as hacks, but they work very well in practice. Let’s look at some of them: \n",
    "\n",
    " \n",
    "\n",
    "## 3).Back translation : \n",
    "Let say we have sentence s1 which is in French. We will translate it to other language (in this case English) and after translation it become sentence s2. Now we will translate this sentence s2 to again French and now it become s3. We’ll find that S1 and S3 are very similar in meaning but are slight variations of each other. Now we can add S3 to our dataset. \n",
    "\n",
    " \n",
    "\n",
    "## 4).Replacing Entities: \n",
    "To create more dataset we will replace the entities name with other entities. Let say s1 is \"I want to go to New York\", here we will replace New York with other entity name for e.g. New Jersey. \n",
    "\n",
    " \n",
    "## 5).Synonym Replacement:\n",
    "Randomly choose “k” words in a sentence that are not stop words. Replace these words with their synonyms. \n",
    "\n",
    " \n",
    "## 6).Bigram flipping: \n",
    "Divide the sentence into bigrams. Take one bigram at random and flip it. For example: “I am going to the supermarket.” Here, we take the bigram “going to” and replace it with the flipped one: “to Going.” \n",
    "\n",
    "\n",
    "# TEXT CLEANING \n",
    "\n",
    "\n",
    "After  collecting data it is also important that data need to be in the form that is understood by computer. Consider the text contains different symbols and words which doesn't convey meaning to the model while training. So we will remove them before feeding to the model in an efficient way. This method is called Data Cleaning. Different Text Cleaning process are as follows:  \n",
    "\n",
    "## HTML tag cleaning : \n",
    "\n",
    "Well when collecting the data we scrap through various web pages. Beautiful Soup and Scrapy, which provide a range of utilities to parse web pages.  \n",
    " "
   ]
  },
  {
   "cell_type": "code",
   "execution_count": 1,
   "metadata": {
    "colab": {
     "base_uri": "https://localhost:8080/"
    },
    "id": "9sO3nXhyUb1z",
    "outputId": "04ea88e6-84e8-459c-af00-fd9026780ff5"
   },
   "outputs": [
    {
     "name": "stdout",
     "output_type": "stream",
     "text": [
      "['1 History', '2 Basics', '3 Challenges', '3.1 Reasoning, problem solving', '3.2 Knowledge representation', '3.3 Planning', '3.4 Learning', '3.5 Natural language processing', '3.6 Perception', '3.7 Motion and manipulation', '3.8 Social intelligence', '3.9 General intelligence', '4 Approaches', '4.1 Cybernetics and brain simulation', '4.2 Symbolic', '4.2.1 Cognitive simulation', '4.2.2 Logic-based', '4.2.3 Anti-logic or scruffy', '4.2.4 Knowledge-based', '4.3 Sub-symbolic', '4.3.1 Embodied intelligence', '4.3.2 Computational intelligence and soft computing', '4.4 Statistical', '4.5 Integrating the approaches', '5 Tools', '6 Applications', '7 Philosophy and ethics', '7.1 The limits of artificial general intelligence', '7.2 Ethical machines', '7.2.1 Artificial moral agents', '7.2.2 Machine ethics', '7.2.3 Malevolent and friendly AI', '7.3 Machine consciousness, sentience and mind', '7.3.1 Consciousness', '7.3.2 Computationalism and functionalism', '7.3.3 Strong AI hypothesis', '7.3.4 Robot rights', '7.4 Superintelligence', '7.4.1 Technological singularity', '7.4.2 Transhumanism', '8 Impact', '8.1 Risks of narrow AI', '8.2 Risks of general AI', '9 Regulation', '10 In fiction', '11 See also', '12 Explanatory notes', '13 References', '13.1 AI textbooks', '13.2 History of AI', '13.3 Other sources', '14 Further reading', '15 External links']\n"
     ]
    }
   ],
   "source": [
    "from bs4 import BeautifulSoup\n",
    "import urllib.request\n",
    "import re\n",
    "url = \"https://en.wikipedia.org/wiki/Artificial_intelligence\"\n",
    "page = urllib.request.urlopen(url) # conntect to website\n",
    "try:\n",
    "    page = urllib.request.urlopen(url)\n",
    "except:\n",
    "    print(\"An error occured.\")\n",
    "soup = BeautifulSoup(page, 'html.parser')\n",
    "regex = re.compile('^tocsection-')\n",
    "content_lis = soup.find_all('li', attrs={'class': regex})\n",
    "content = []\n",
    "for li in content_lis:\n",
    "    content.append(li.getText().split('\\n')[0])\n",
    "print(content)"
   ]
  },
  {
   "cell_type": "markdown",
   "metadata": {
    "id": "tI8Y5V6ZTz6J"
   },
   "source": [
    "## Unicode Normalization:  \n",
    "\n",
    "While cleaning the data we may also encounter various Unicode characters, including symbols, emojis, and other graphic characters. To parse such non-textual symbols and special characters, we use Unicode normalization. This means that the text we see should be converted into some form of binary representation to store in a computer. This process is known as text encoding. \n",
    "\n",
    " \n",
    "\n",
    "<INSERT CODE HERE> \n"
   ]
  },
  {
   "cell_type": "code",
   "execution_count": 2,
   "metadata": {
    "colab": {
     "base_uri": "https://localhost:8080/"
    },
    "id": "5X_K6NngXmXB",
    "outputId": "b5a67306-40ec-49c3-de20-3c22710ec4e6"
   },
   "outputs": [
    {
     "name": "stdout",
     "output_type": "stream",
     "text": [
      "Collecting emoji\n",
      "\u001b[?25l  Downloading https://files.pythonhosted.org/packages/ff/1c/1f1457fe52d0b30cbeebfd578483cedb3e3619108d2d5a21380dfecf8ffd/emoji-0.6.0.tar.gz (51kB)\n",
      "\r",
      "\u001b[K     |██████▍                         | 10kB 14.7MB/s eta 0:00:01\r",
      "\u001b[K     |████████████▉                   | 20kB 9.3MB/s eta 0:00:01\r",
      "\u001b[K     |███████████████████▎            | 30kB 7.8MB/s eta 0:00:01\r",
      "\u001b[K     |█████████████████████████▊      | 40kB 7.4MB/s eta 0:00:01\r",
      "\u001b[K     |████████████████████████████████| 51kB 2.7MB/s \n",
      "\u001b[?25hBuilding wheels for collected packages: emoji\n",
      "  Building wheel for emoji (setup.py) ... \u001b[?25l\u001b[?25hdone\n",
      "  Created wheel for emoji: filename=emoji-0.6.0-cp36-none-any.whl size=49717 sha256=a6365101db710e8ae5f3986d405494a39b45d5a929650cdea2bcaa2b6868515d\n",
      "  Stored in directory: /root/.cache/pip/wheels/46/2c/8b/9dcf5216ca68e14e0320e283692dce8ae321cdc01e73e17796\n",
      "Successfully built emoji\n",
      "Installing collected packages: emoji\n",
      "Successfully installed emoji-0.6.0\n"
     ]
    }
   ],
   "source": [
    "#hide\n",
    "!pip install emoji"
   ]
  },
  {
   "cell_type": "code",
   "execution_count": 3,
   "metadata": {
    "colab": {
     "base_uri": "https://localhost:8080/"
    },
    "id": "lhIqtGsCYkNO",
    "outputId": "7339e355-be96-4765-fa4a-47585812676f"
   },
   "outputs": [
    {
     "name": "stdout",
     "output_type": "stream",
     "text": [
      "Python is fun ❤\n"
     ]
    }
   ],
   "source": [
    "import emoji\n",
    "text = emoji.emojize(\"Python is fun :red_heart:\")\n",
    "print(text)"
   ]
  },
  {
   "cell_type": "code",
   "execution_count": 4,
   "metadata": {
    "colab": {
     "base_uri": "https://localhost:8080/"
    },
    "id": "i4Hp9eIxY3aX",
    "outputId": "5ce12c97-b812-4521-cd38-37989c486c50"
   },
   "outputs": [
    {
     "name": "stdout",
     "output_type": "stream",
     "text": [
      "b'Python is fun \\xe2\\x9d\\xa4'\n"
     ]
    }
   ],
   "source": [
    "Text = text.encode(\"utf-8\")\n",
    "print(Text)"
   ]
  },
  {
   "cell_type": "markdown",
   "metadata": {
    "id": "bDQbvDahUA1M"
   },
   "source": [
    "## Spelling Correction:  \n",
    "\n",
    "The data that we have might have some spelling mistake because of fast typing the text or using short hand or slang that are used on social media like twitter. Using these data may not result in better prediction by our model therefore it is quite important to handle these data before feeding it to the model. we don’t have a robust method to fix this, but we still can make good attempts to mitigate the issue. Microsoft released a REST API that can be used in Python for potential spell checking. \n",
    "\n",
    " \n"
   ]
  },
  {
   "cell_type": "markdown",
   "metadata": {
    "id": "MyTMJyUFUGqB"
   },
   "source": [
    "### System-Specific Error Correction: \n",
    "\n",
    "* What if we need to extract the data from the PDF. Different PDF documents are encoded differently, and sometimes, we may not be able to extract the full text, or the structure of the text may get messed up. There are several libraries, such as PyPDF, PDFMiner, etc., to extract text from PDF documents but they are far from perfect. \n",
    "\n",
    "* Another common source of textual data is scanned documents. Text extraction from scanned documents is typically done through optical character recognition (OCR), using libraries such as Tesseract. \n",
    "\n",
    " "
   ]
  },
  {
   "cell_type": "markdown",
   "metadata": {
    "id": "JXMr9KH1aioY"
   },
   "source": [
    " \n",
    "\n",
    "# PRE-PROCESSING:  \n",
    "\n",
    "To pre-process your text simply means to bring your text into a form that is predictable  and analysable for your task. A task here is a combination of approach and domain. For example, extracting top keywords with TF-IDF (approach) from Tweets (domain) is an example of a Task. \n",
    "\n",
    " \n",
    "\n",
    "                      Task = approach + domain \n",
    " \n",
    "\n",
    "One task’s ideal pre-processing can become another task’s worst nightmare. So take note: text pre-processing is not directly transferable from task to task. \n",
    "\n",
    "Let’s take a very simple example, let’s say you are trying to discover commonly used words in a news dataset. If your pre-processing step involves removing stopwords  because some other task used it, then you are probably going to miss out on some of the common words as you have ALREADY eliminated it. So really, it’s not a one-size-fits-all approach. \n",
    "\n",
    "Here are some common pre-processing steps used in NLP software: \n",
    "\n",
    "* Preliminaries:  \n",
    "Sentence segmentation and word tokenization. \n",
    "\n",
    " \n",
    "* Frequent steps:  \n",
    "Stop word removal, stemming and lemmatization, removing digits/punctuation, lowercasing, etc. \n",
    "\n",
    " \n",
    "\n",
    "* Advanced processing:  \n",
    "  POS tagging, parsing, coreference resolution, etc. \n",
    "\n",
    " \n",
    "\n",
    "## Preliminaries :  \n",
    "\n",
    "While not all steps will be followed in all the NLP pipelines we encounter, the first two are more or less seen everywhere. Let’s take a look at what each of these steps mean. \n",
    "\n",
    " \n",
    "\n",
    "The NLP can analysis the text by breaking it into sentence(sentence segmentation) and then further into words(words tokenization). \n",
    "\n",
    "### SENTENCE SEGMENTATION : \n",
    "\n",
    "We may easily divide the text into sentence on the basis of the position of the full stop(.). But what happen if we have Dr.Joy or (….) in our text. \n",
    "\n",
    "We have NLP libraries which help to overcome these issue. Like NLTK. \n",
    "\n",
    " "
   ]
  },
  {
   "cell_type": "code",
   "execution_count": 30,
   "metadata": {
    "colab": {
     "base_uri": "https://localhost:8080/"
    },
    "id": "zlQrtjqW4qYn",
    "outputId": "61897278-5539-4f38-a00b-eedf7cc5662b"
   },
   "outputs": [
    {
     "name": "stdout",
     "output_type": "stream",
     "text": [
      "[nltk_data] Downloading package punkt to /root/nltk_data...\n",
      "[nltk_data]   Package punkt is already up-to-date!\n"
     ]
    },
    {
     "data": {
      "text/plain": [
       "True"
      ]
     },
     "execution_count": 30,
     "metadata": {
      "tags": []
     },
     "output_type": "execute_result"
    }
   ],
   "source": [
    "#hide\n",
    "import nltk\n",
    "nltk.download('punkt')"
   ]
  },
  {
   "cell_type": "code",
   "execution_count": 7,
   "metadata": {
    "colab": {
     "base_uri": "https://localhost:8080/"
    },
    "id": "9YPsY1mpbzdI",
    "outputId": "b1a00bbe-f8cd-4c52-d013-bac1554da263"
   },
   "outputs": [
    {
     "name": "stdout",
     "output_type": "stream",
     "text": [
      "[nltk_data] Downloading package punkt to /root/nltk_data...\n",
      "[nltk_data]   Unzipping tokenizers/punkt.zip.\n",
      "[\"It's fun to study NLP.\", 'Would recommend to all.']\n"
     ]
    }
   ],
   "source": [
    "import nltk\n",
    "from nltk.tokenize import sent_tokenize\n",
    "text = \"It's fun to study NLP. Would recommend to all.\"\n",
    "print(sent_tokenize(text))\n"
   ]
  },
  {
   "cell_type": "markdown",
   "metadata": {
    "id": "SjRTtqQnchGW"
   },
   "source": [
    "### WORD TOKENIZATION : \n",
    "\n",
    "To tokenize a sentence into words, we can start with a simple rule to split text into words based on the presence of punctuation marks. The NLTK library allows us to do that. "
   ]
  },
  {
   "cell_type": "code",
   "execution_count": null,
   "metadata": {
    "colab": {
     "base_uri": "https://localhost:8080/"
    },
    "id": "HurCWQeCcrkD",
    "outputId": "14d20a55-a0d4-433c-f4d9-d13a4c73d163"
   },
   "outputs": [
    {
     "name": "stdout",
     "output_type": "stream",
     "text": [
      "['It', \"'s\", 'fun', 'to', 'study', 'NLP', '.', 'Would', 'recommend', 'to', 'all', '.']\n"
     ]
    }
   ],
   "source": [
    "from nltk.tokenize import word_tokenize\n",
    "text = \"It's fun to study NLP. Would recommend to all.\"\n",
    "print(word_tokenize(text))\n"
   ]
  },
  {
   "cell_type": "markdown",
   "metadata": {
    "id": "zZgAPJycc510"
   },
   "source": [
    "## Frequent Steps : \n",
    "\n",
    "Some frequent steps for pre-processing steps are: \n",
    "\n",
    "* Lower casing \n",
    "* Removal of Punctuations \n",
    "* Removal of Stopwords \n",
    "* Removal of Frequent words \n",
    "* Stemming \n",
    "* Lemmatization \n",
    "* Removal of emojis \n",
    "* Removal of emoticons \n",
    "\n",
    " \n",
    "Well these steps are frequent but they may vary problem to problem. For eg let us consider we want to predict whether the given text belong to news, music or any other field. So for this problem we cannot remove the Frequent words like news article might contain the word news in it a lot, Hence to categorize the article we cannot just remove it. \n",
    "\n",
    "As we encounter the word stemming and Lemmatization for the first time. Lets clear the meaning of these terms. \n",
    "\n",
    "Stemming and Lemmatization helps us to achieve the root forms (sometimes called synonyms in search context) of inflected (derived) words.  \n",
    "\n",
    " \n",
    "\n",
    "###  Stemming : \n",
    "\n",
    "Stemming is faster because it chops words without knowing the context of the words in given sentences. \n",
    "\n",
    "* It is rule-based approach. \n",
    "* Accuracy is less. \n",
    "* When we convert any words into root-form then stemming mat create the non-existence meaning of a word. \n",
    "* Stemming is preferred when the meaning of the word is not important for analysis. EXAMPLE :- Spam Detection \n",
    "* For example : Studies => Studi "
   ]
  },
  {
   "cell_type": "code",
   "execution_count": null,
   "metadata": {
    "colab": {
     "base_uri": "https://localhost:8080/"
    },
    "id": "eXV2ZRmfdunV",
    "outputId": "dc84308e-e665-4bb9-bb5b-d54e9852eac2"
   },
   "outputs": [
    {
     "name": "stdout",
     "output_type": "stream",
     "text": [
      "Actual: Da  Stem: Da\n",
      "Actual: Vinci  Stem: vinci\n",
      "Actual: Code  Stem: code\n",
      "Actual: is  Stem: is\n",
      "Actual: such  Stem: such\n",
      "Actual: an  Stem: an\n",
      "Actual: amazing  Stem: amaz\n",
      "Actual: book  Stem: book\n",
      "Actual: to  Stem: to\n",
      "Actual: read  Stem: read\n",
      "Actual: .  Stem: .\n",
      "Actual: .The  Stem: .the\n",
      "Actual: book  Stem: book\n",
      "Actual: si  Stem: si\n",
      "Actual: full  Stem: full\n",
      "Actual: of  Stem: of\n",
      "Actual: suspense  Stem: suspens\n",
      "Actual: and  Stem: and\n",
      "Actual: Thriller  Stem: thriller\n",
      "Actual: .  Stem: .\n",
      "Actual: One  Stem: one\n",
      "Actual: of  Stem: of\n",
      "Actual: the  Stem: the\n",
      "Actual: best  Stem: best\n",
      "Actual: work  Stem: work\n",
      "Actual: of  Stem: of\n",
      "Actual: Dan  Stem: dan\n",
      "Actual: Brown  Stem: brown\n"
     ]
    }
   ],
   "source": [
    "from nltk.stem.porter import PorterStemmer\n",
    "porter_stemmer = PorterStemmer()\n",
    "\n",
    "word_data = \"Da Vinci Code is such an amazing book to read.The book is full of suspense and Thriller. One of the best work of Dan Brown.\"\n",
    "# First Word tokenization\n",
    "nltk_tokens = nltk.word_tokenize(word_data)\n",
    "#Next find the roots of the word\n",
    "for w in nltk_tokens:\n",
    "       print(\"Actual: %s  Stem: %s\"  % (w,porter_stemmer.stem(w)))"
   ]
  },
  {
   "cell_type": "markdown",
   "metadata": {
    "id": "4hM1H5nAfIyU"
   },
   "source": [
    "### Lemmatization :  \n",
    "\n",
    "Lemmatization is slower as compared to stemming but it knows the context of the word before proceeding. \n",
    "\n",
    "* It is a dictionary-based approach. \n",
    "* Accuracy is more as compared to Stemming. \n",
    "* Lemmatization always gives the dictionary meaning word while converting into root-form. \n",
    "* Lemmatization would be recommended when the meaning of the word is important for analysis.Example: Question Answer \n",
    "*For Example: “Studies” => “Study” \n",
    "\n",
    " "
   ]
  },
  {
   "cell_type": "code",
   "execution_count": 19,
   "metadata": {
    "colab": {
     "base_uri": "https://localhost:8080/"
    },
    "id": "JnjIsIwF1biK",
    "outputId": "1558119d-efa0-45e8-a419-05ca671d4de3"
   },
   "outputs": [
    {
     "name": "stdout",
     "output_type": "stream",
     "text": [
      "[nltk_data] Downloading package wordnet to /root/nltk_data...\n",
      "[nltk_data]   Unzipping corpora/wordnet.zip.\n"
     ]
    },
    {
     "data": {
      "text/plain": [
       "True"
      ]
     },
     "execution_count": 19,
     "metadata": {
      "tags": []
     },
     "output_type": "execute_result"
    }
   ],
   "source": [
    "#hide\n",
    "nltk.download(\"wordnet\")"
   ]
  },
  {
   "cell_type": "code",
   "execution_count": 20,
   "metadata": {
    "colab": {
     "base_uri": "https://localhost:8080/"
    },
    "id": "GS0wkiBfeut5",
    "outputId": "a4e535bc-170d-4d03-8485-bbbda1e568f7"
   },
   "outputs": [
    {
     "name": "stdout",
     "output_type": "stream",
     "text": [
      "Actual: Da  Lemma: Da\n",
      "Actual: Vinci  Lemma: Vinci\n",
      "Actual: Code  Lemma: Code\n",
      "Actual: is  Lemma: is\n",
      "Actual: such  Lemma: such\n",
      "Actual: an  Lemma: an\n",
      "Actual: amazing  Lemma: amazing\n",
      "Actual: book  Lemma: book\n",
      "Actual: to  Lemma: to\n",
      "Actual: read.The  Lemma: read.The\n",
      "Actual: book  Lemma: book\n",
      "Actual: is  Lemma: is\n",
      "Actual: full  Lemma: full\n",
      "Actual: of  Lemma: of\n",
      "Actual: suspense  Lemma: suspense\n",
      "Actual: and  Lemma: and\n",
      "Actual: Thriller  Lemma: Thriller\n",
      "Actual: .  Lemma: .\n",
      "Actual: One  Lemma: One\n",
      "Actual: of  Lemma: of\n",
      "Actual: the  Lemma: the\n",
      "Actual: best  Lemma: best\n",
      "Actual: work  Lemma: work\n",
      "Actual: of  Lemma: of\n",
      "Actual: Dan  Lemma: Dan\n",
      "Actual: Brown  Lemma: Brown\n",
      "Actual: .  Lemma: .\n"
     ]
    }
   ],
   "source": [
    "\n",
    "from nltk.stem import WordNetLemmatizer\n",
    "wordnet_lemmatizer = WordNetLemmatizer()\n",
    "\n",
    "word_data = \"Da Vinci Code is such an amazing book to read.The book is full of suspense and Thriller. One of the best work of Dan Brown.\"\n",
    "nltk_tokens = nltk.word_tokenize(word_data)\n",
    "for w in nltk_tokens:\n",
    "       print(\"Actual: %s  Lemma: %s\"  % (w,wordnet_lemmatizer.lemmatize(w)))"
   ]
  },
  {
   "cell_type": "markdown",
   "metadata": {
    "id": "-IsRQC5tf7I7"
   },
   "source": [
    "Some other pre-processing steps that are not that common are: \n",
    "\n",
    "### Text Normalization: \n",
    "\n",
    "Text normalization is the process of transforming a text into a canonical (standard) form. For example, the word “gooood” and “gud” can be transformed to “good”, its canonical form. Another example is mapping of near identical words such as “stopwords”, “stop-words” and “stop words” to just “stopwords”. \n",
    "\n",
    " \n",
    "\n",
    "### Language Detection: \n",
    "\n",
    "Well what happen if our text is in other language apart from English. Our whole pipeline will accept an English  text. So for that we need to detect the language before creating the pipeline. \n",
    "\n",
    "\n",
    "## Advance Processing  \n",
    "\n",
    "### POS Tagging : \n",
    "Imagine we’re asked to develop a system to identify person and organization names in our company’s collection of one million documents. The common pre-processing steps we discussed earlier may not be relevant in this context. Identifying names requires us to be able to do POS tagging, as identifying proper nouns can be useful in identifying person and organization names. Pre-trained and readily usable POS taggers are implemented in NLP libraries such as NLTK, spaCy and Parsey McParseface Tagger. \n",
    "\n",
    " "
   ]
  },
  {
   "cell_type": "code",
   "execution_count": 12,
   "metadata": {
    "colab": {
     "base_uri": "https://localhost:8080/"
    },
    "id": "l53lffW3gRfT",
    "outputId": "918c5814-1dee-49ea-e5c7-dd7dcca75550"
   },
   "outputs": [
    {
     "name": "stdout",
     "output_type": "stream",
     "text": [
      "Part of speech [('The', 'DT'), ('quick', 'JJ'), ('brown', 'NN'), ('fox', 'NN'), ('jumps', 'VBZ'), ('over', 'IN'), ('a', 'DT'), ('lazy', 'JJ'), ('dog', 'NN')]\n"
     ]
    }
   ],
   "source": [
    "tokens = nltk.word_tokenize(\"The quick brown fox jumps over a lazy dog\")\n",
    "print(\"Part of speech\",nltk.pos_tag(tokens))"
   ]
  },
  {
   "cell_type": "markdown",
   "metadata": {
    "id": "ghnMInSdgfbR"
   },
   "source": [
    "### Parse Tree: \n",
    "\n",
    "Now if we have to find the relationship between person and organization then  we need to anayisis the senentce in depth and for that  parse tree play a major role. Parse tree is a tree representation of different syntactic categories of a sentence. It helps us to understand the syntactical structure of a sentence. \n",
    "\n",
    " "
   ]
  },
  {
   "cell_type": "code",
   "execution_count": 21,
   "metadata": {
    "colab": {
     "base_uri": "https://localhost:8080/"
    },
    "id": "eDBYCWaX1jEB",
    "outputId": "12e3d9e0-7f2e-496b-fd35-3a6bcbbfa596"
   },
   "outputs": [
    {
     "name": "stdout",
     "output_type": "stream",
     "text": [
      "[nltk_data] Downloading package punkt to /root/nltk_data...\n",
      "[nltk_data]   Package punkt is already up-to-date!\n",
      "[nltk_data] Downloading package averaged_perceptron_tagger to\n",
      "[nltk_data]     /root/nltk_data...\n",
      "[nltk_data]   Package averaged_perceptron_tagger is already up-to-\n",
      "[nltk_data]       date!\n"
     ]
    },
    {
     "data": {
      "text/plain": [
       "True"
      ]
     },
     "execution_count": 21,
     "metadata": {
      "tags": []
     },
     "output_type": "execute_result"
    }
   ],
   "source": [
    "#hide\n",
    "nltk.download('punkt') \n",
    "nltk.download('averaged_perceptron_tagger') \n"
   ]
  },
  {
   "cell_type": "code",
   "execution_count": 22,
   "metadata": {
    "colab": {
     "base_uri": "https://localhost:8080/"
    },
    "id": "FFmQ3fr8gkmz",
    "outputId": "23294154-f166-4db6-d65d-4e0b7711fce5"
   },
   "outputs": [
    {
     "name": "stdout",
     "output_type": "stream",
     "text": [
      "After Extracting\n",
      " (S\n",
      "  (NP The/DT quick/JJ brown/NN)\n",
      "  (NP fox/NN)\n",
      "  (VP (V jumps/VBZ) (PP (P over/IN) (NP the/DT lazy/JJ dog/NN))))\n"
     ]
    }
   ],
   "source": [
    "\n",
    "from nltk import pos_tag, word_tokenize, RegexpParser \n",
    "   \n",
    "# Example text \n",
    "sample_text = \"The quick brown fox jumps over the lazy dog\"\n",
    "   \n",
    "# Find all parts of speech in above sentence \n",
    "tagged = pos_tag(word_tokenize(sample_text)) \n",
    "   \n",
    "#Extract all parts of speech from any text \n",
    "chunker = RegexpParser(\"\"\" \n",
    "                       NP: {<DT>?<JJ>*<NN>}    #To extract Noun Phrases \n",
    "                       P: {<IN>}               #To extract Prepositions \n",
    "                       V: {<V.*>}              #To extract Verbs \n",
    "                       PP: {<P> <NP>}          #To extract Prepostional Phrases \n",
    "                       VP: {<V> <NP|PP>*}      #To extarct Verb Phrases \n",
    "                       \"\"\") \n",
    "  \n",
    "# Print all parts of speech in above sentence \n",
    "output = chunker.parse(tagged) \n",
    "print(\"After Extracting\\n\", output) "
   ]
  },
  {
   "cell_type": "markdown",
   "metadata": {
    "id": "q_ICPHoeglj-"
   },
   "source": [
    "### Conference Resolution : \n",
    "\n",
    "Coreference resolution is the task of finding all expressions that refer to the same entity in a text.\n",
    "\n",
    "<img src=\"my_icons/topic_02.a.2.png\">"
   ]
  },
  {
   "cell_type": "markdown",
   "metadata": {
    "id": "cRIT6cJHgwVD"
   },
   "source": [
    "# FEATURE ENGINEERING: \n",
    "\n",
    "When we use ML methods to perform our modeling step later, we’ll still need a way to feed this pre-processed text into an ML algorithm. Feature engineering refers to the set of methods that will accomplish this task. It’s also referred to as feature extraction. The goal of feature engineering is to capture the characteristics of the text into a numeric vector that can be understood by the ML algorithms. \n",
    "\n",
    "two different approaches taken in practice for feature engineering in  \n",
    "\n",
    "## classical NLP and traditional ML pipeline  \n",
    "\n",
    "Feature engineering is an integral step in any ML pipeline. Feature engineering steps convert the raw data into a format that can be consumed by a machine. These transformation functions are usually handcrafted in the classical ML pipeline, aligning to the task at hand. For example, imagine a task of sentiment classification on product reviews in e-commerce. One way to convert the reviews into meaningful “numbers” that helps predict the reviews’ sentiments (positive or negative) would be to count the number of positive and negative words in each review. There are statistical measures for understanding if a feature is useful for a task or not. \n",
    "\n",
    "One of the advantages of handcrafted features is that the model remains interpretable—it’s possible to quantify exactly how much each feature is influencing the model prediction. \n",
    "\n",
    " \n",
    "\n",
    "## DL pipeline \n",
    "\n",
    "In the DL pipeline, the raw data (after pre-processing) is directly fed to a model.The model is capable of “learning” features from the data. Hence, these features are more in line with the task at hand, so they generally give improved performance. But, since all these features are learned via model parameters, the model loses interpretability. \n",
    "\n",
    " \n",
    "\n",
    " \n",
    "\n",
    "# RECAP: \n",
    "\n",
    "The first step in the process of developing any NLP system is to collect data relevant to the given task. Even if we’re building a rule-based system, we still need some data to design and test our rules. The data we get is seldom(rarely) clean, and this is where text cleaning comes into play. After cleaning, text data often has a lot of variations and needs to be converted into a canonical (principle or a pre-defined way) form. This is done in the pre-processing step. This is followed by feature engineering, where we carve out indicators that are most suitable for the task at hand. \n",
    "\n",
    "These indicators/features are converted into a format that is understandable by modeling algorithms.  "
   ]
  },
  {
   "cell_type": "markdown",
   "metadata": {
    "id": "1TnuhFEchBI3"
   },
   "source": [
    "\n",
    "{{ 'Notes are compiled from [ Practical Natural Language Processing: A Comprehensive Guide to Building Real-World NLP Systems](https://www.oreilly.com/library/view/practical-natural-language/9781492054047/), [GeeksforGeeks](https://www.geeksforgeeks.org/syntax-tree-natural-language-processing/), [tutorialspoint-Stemming and Lemmatization](https://www.tutorialspoint.com/python_data_science/python_stemming_and_lemmatization.htm), [gfg-parse tree](https://www.geeksforgeeks.org/syntax-tree-natural-language-processing/), [morioh](https://morioh.com/p/a7b8982e5a5a) and [Medium-Tokenization and Parts of Speech(POS) Tagging in Python’s NLTK library](https://medium.com/@gianpaul.r/tokenization-and-parts-of-speech-pos-tagging-in-pythons-nltk-library-2d30f70af13b)' | fndetail: 2 }}\n",
    "{{ 'If you face any problem or have any feedback/suggestions feel free to comment.' | fndetail: 3 }}"
   ]
  }
 ],
 "metadata": {
  "colab": {
   "collapsed_sections": [
    "c06uVp3rS3wh"
   ],
   "name": "2020-12-24-Building-An-NLP-Pipeline-(PART-1).ipynb",
   "provenance": [],
   "toc_visible": true
  },
  "kernelspec": {
   "display_name": "Python 3",
   "language": "python",
   "name": "python3"
  },
  "language_info": {
   "codemirror_mode": {
    "name": "ipython",
    "version": 3
   },
   "file_extension": ".py",
   "mimetype": "text/x-python",
   "name": "python",
   "nbconvert_exporter": "python",
   "pygments_lexer": "ipython3",
   "version": "3.7.6"
  }
 },
 "nbformat": 4,
 "nbformat_minor": 1
}
